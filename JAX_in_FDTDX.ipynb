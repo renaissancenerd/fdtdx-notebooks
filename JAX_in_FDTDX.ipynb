{
 "cells": [
  {
   "cell_type": "markdown",
   "id": "d2a77008-51da-4d54-970b-2994b3671624",
   "metadata": {},
   "source": [
    "## Introduction to JAX\n",
    "\n",
    "JAX is a high-performance numerical computing library developed by Google that brings together the familiar NumPy API with powerful features like automatic differentiation, just-in-time (JIT) compilation, and seamless GPU/TPU acceleration. Originally designed for machine learning research, JAX has become popular across scientific computing applications due to its speed and flexibility."
   ]
  },
  {
   "cell_type": "markdown",
   "id": "9520fff9-0dd4-4172-97b4-4061e7bef539",
   "metadata": {},
   "source": [
    "Jax itself provides a good introduction <a href=\"https://docs.jax.dev/en/latest/tutorials.html\">here</a> and <a href=\"https://docs.jax.dev/en/latest/notebooks/Common_Gotchas_in_JAX.html\">here</a>. Otherwise, the following is a small crash course."
   ]
  },
  {
   "cell_type": "markdown",
   "id": "5db85664-f334-40f2-866f-8e03b8e415a1",
   "metadata": {},
   "source": [
    "### Functional Programming Paradigm\n",
    "\n",
    "JAX operates exclusively in a functional programming style, which means it requires you to write pure functions without side effects. This functional approach has several important implications:"
   ]
  },
  {
   "cell_type": "markdown",
   "id": "62bbb8ee-dd78-4ccd-b4ba-2c409e4a50ac",
   "metadata": {},
   "source": [
    "### Pure Functions Only\n",
    "\n",
    "JAX functions cannot modify variables in-place or maintain internal state. Instead of operations like array[0] = 5, you must use functional equivalents like array.at[0].set(5) that return new arrays."
   ]
  },
  {
   "cell_type": "code",
   "execution_count": 4,
   "id": "09a3b9bf-d1f5-4756-8505-42456f17cd4e",
   "metadata": {},
   "outputs": [],
   "source": [
    "# This won't work in JAX\n",
    "def bad_function(x):\n",
    "    x[0] = x[0] + 1  # In-place modification\n",
    "    return x\n",
    "\n",
    "# This is the JAX way\n",
    "def good_function(x):\n",
    "    return x.at[0].add(1)  # Returns new array"
   ]
  },
  {
   "cell_type": "markdown",
   "id": "2038939b-a1e5-41bc-8a60-8225a71207fc",
   "metadata": {},
   "source": [
    "### No Side Effects\n",
    "\n",
    "Functions should not print to console, write to files, or modify global variables during compilation. JAX's JIT compiler optimizes based on the assumption that functions are deterministic and side-effect free."
   ]
  },
  {
   "cell_type": "markdown",
   "id": "6484bf35-e736-4eee-8f29-62a94b92759b",
   "metadata": {},
   "source": [
    "### Immutable Data\n",
    "\n",
    "Arrays and other data structures are treated as immutable. Operations create new objects rather than modifying existing ones, similar to how NumPy handles broadcasting operations.\n",
    "\n",
    "This functional constraint enables JAX's powerful transformations like jit (compilation), grad (automatic differentiation), vmap (vectorization), and pmap (parallelization). While the functional style requires some adjustment if you're used to imperative programming, it unlocks JAX's ability to automatically optimize and transform your numerical code in ways that would be impossible with stateful operations."
   ]
  },
  {
   "cell_type": "markdown",
   "id": "73c2bb25-9cb2-4ca5-850f-a6a57ca759a1",
   "metadata": {},
   "source": [
    "## TreeClass Objects in FDTDX\n",
    "\n",
    "FDTDX leverages JAX's functional programming paradigm through a specialized TreeClass system that makes it easy to work with complex hierarchical data structures while maintaining JAX compatibility. The TreeClass provides a clean, object-oriented interface that automatically integrates with JAX's pytree system, allowing for seamless use with JAX transformations."
   ]
  },
  {
   "cell_type": "markdown",
   "id": "fbeeb8f6-23b7-46da-8e01-f1ea31b98885",
   "metadata": {},
   "source": [
    "### TreeClass Structure\n",
    "\n",
    "The TreeClass system uses dataclass-like syntax with the @fdtdx.autoinit decorator to automatically generate initialization methods. Here's how it works:"
   ]
  },
  {
   "cell_type": "code",
   "execution_count": 10,
   "id": "7aae57d1-c94d-4c83-afc8-340d44c4ea53",
   "metadata": {},
   "outputs": [],
   "source": [
    "import fdtdx\n",
    "\n",
    "@fdtdx.autoinit\n",
    "class A(fdtdx.TreeClass):\n",
    "    a: float = 2\n",
    "    x: int = 5\n",
    "\n",
    "@fdtdx.autoinit\n",
    "class B(fdtdx.TreeClass):\n",
    "    a1: A\n",
    "    z: int = 7\n",
    "\n",
    "@fdtdx.autoinit\n",
    "class C(fdtdx.TreeClass):\n",
    "    b_list: list[B]\n",
    "    c: float = 2"
   ]
  },
  {
   "cell_type": "markdown",
   "id": "7371ef08-2f92-4de3-b2a2-e306f6d1c22f",
   "metadata": {},
   "source": [
    "These classes can be nested arbitrarily deep and contain lists, dictionaries, or other complex data structures. The @fdtdx.autoinit decorator automatically generates init methods that handle default values and type checking."
   ]
  },
  {
   "cell_type": "markdown",
   "id": "c8234228-2768-4874-8a65-23c986bc65f8",
   "metadata": {},
   "source": [
    "### Working with TreeClass Instances"
   ]
  },
  {
   "cell_type": "code",
   "execution_count": 14,
   "id": "17676481-27f6-4309-ac9d-2dcbdfc1d9ea",
   "metadata": {},
   "outputs": [],
   "source": [
    "# Create instances with default or custom values\n",
    "b = B(a1=A())  # Uses defaults: A(a=2, x=5), z=7\n",
    "b = b.aset(\"z\", 7)  # Functional update\n",
    "\n",
    "# Create more complex nested structures\n",
    "b2 = B(a1=A(a=10, x=11), z=12)\n",
    "b3 = B(a1=A(a=20, x=21), z=22)\n",
    "\n",
    "# Collections of TreeClass instances\n",
    "c = C(b_list=[b, b2])\n",
    "\n",
    "# Deep nested updates using path syntax\n",
    "c2 = c.aset(\"b_list->[0]->a1->a\", 100)"
   ]
  },
  {
   "cell_type": "markdown",
   "id": "0473fe9b-4ee8-4fd9-8db4-d10ec5bb33af",
   "metadata": {},
   "source": [
    "### The aset Method: Functional Updates Made Easy\n",
    "\n",
    "The aset method is the cornerstone of FDTDX's functional approach. Unlike JAX's standard .at[].set() which only works on pytree leaf nodes (typically arrays), aset can update any attribute at any level of nesting within a TreeClass hierarchy."
   ]
  },
  {
   "cell_type": "markdown",
   "id": "5a90bea3-a08a-4c13-92cf-f86aad6f3fb2",
   "metadata": {},
   "source": [
    "### Path Syntax: The method uses an intuitive string-based path syntax to navigate nested structures:\n",
    "\n",
    "- \"attribute\" - Direct attribute access\n",
    "- \"a->b\" - Nested attribute access (a.b)\n",
    "- \"a->[0]\" - List indexing\n",
    "- \"a->['key']\" - Dictionary key access\n",
    "- \"b_list->[0]->a1->a\" - Complex nested path\n",
    "- \n",
    "In the example c2 = c.aset(\"b_list->[0]->a1->a\", 100), this path means: - Access the b_list attribute of c - Get the first element [0] of that list - Access the a1 attribute of that element - Access the a attribute of a1 - Set that value to 100\n",
    "\n",
    "The method returns a completely new instance with the updated value, maintaining JAX's functional programming requirements. This allows FDTDX data structures to be used seamlessly with JAX transformations like jit, grad, and vmap, while providing a much more intuitive interface than manually reconstructing nested data structures. This approach bridges the gap between JAX's powerful functional capabilities and the practical need for complex, hierarchical data management in scientific computing applications."
   ]
  },
  {
   "cell_type": "markdown",
   "id": "a679148f-d35a-434f-8ce2-e6531204b916",
   "metadata": {},
   "source": [
    "## How JAX is used in FDTDX"
   ]
  },
  {
   "cell_type": "markdown",
   "id": "7fc55378-eabd-427e-941f-9d886443327a",
   "metadata": {},
   "source": [
    "For a full example on how to use JAX with fdtdx, check out this <a href= \"https://github.com/ymahlau/fdtdx/blob/main/examples/simulate_gaussian_source.py\">example</a> or this <a href= https://github.com/ymahlau/fdtdx/blob/main/examples/optimize_ceviche_corner.py>example</a>. The script demonstrates FDTDX's seamless integration with JAX's jit transformation. The core simulation function sim_fn takes FDTDX TreeClass structures as arguments and is JIT-compiled:"
   ]
  },
  {
   "cell_type": "code",
   "execution_count": null,
   "id": "b48d465e-971c-43ca-86d9-ae4b589eaa07",
   "metadata": {},
   "outputs": [],
   "source": [
    "def sim_fn(\n",
    "    params: fdtdx.ParameterContainer,\n",
    "    arrays: fdtdx.ArrayContainer, \n",
    "    key: jax.Array,\n",
    "):\n",
    "    # Complex FDTD simulation logic with TreeClass structures\n",
    "    arrays, new_objects, info = fdtdx.apply_params(arrays, objects, params, key)\n",
    "    final_state = fdtdx.run_fdtd(arrays=arrays, objects=new_objects, config=config, key=key)\n",
    "    # ... more operations\n",
    "    return arrays, new_info\n",
    "jitted_loss = jax.jit(sim_fn, donate_argnames=[\"arrays\"]).lower(params, arrays, key).compile()"
   ]
  },
  {
   "cell_type": "markdown",
   "id": "c21e2004-063c-4fb0-a4b7-cb9a8c2d8d5f",
   "metadata": {},
   "source": [
    "### JIT compilation with TreeClass arguments\n",
    "\n",
    "Key Features:\n",
    "\n",
    "- TreeClass Compatibility: The ParameterContainer and ArrayContainer are FDTDX TreeClass structures that work seamlessly with jit. JAX automatically handles the pytree registration, allowing these complex nested structures to be compiled efficiently.\n",
    "- Memory Optimization: The donate_argnames=[\"arrays\"] parameter tells JAX it can reuse the memory of the arrays argument, which is crucial for large electromagnetic field arrays in FDTD simulations.\n",
    "- Compilation Pipeline: The script uses .lower().compile() to explicitly control the compilation process, providing timing information for performance analysis.\n",
    "  \n",
    "While this specific example focuses on forward simulation, FDTDX is designed for gradient-based optimization. The GradientConfig setup shows how gradients would be computed:"
   ]
  },
  {
   "cell_type": "code",
   "execution_count": null,
   "id": "399d78c1-2c64-4cc6-9f34-e62771328ac2",
   "metadata": {},
   "outputs": [],
   "source": [
    "gradient_config = fdtdx.GradientConfig(\n",
    "    recorder=fdtdx.Recorder(\n",
    "        modules=[fdtdx.DtypeConversion(dtype=jnp.bfloat16)]\n",
    "    )\n",
    ")"
   ]
  },
  {
   "cell_type": "markdown",
   "id": "eb47eec8-a6d6-4cdc-bd23-e1a8851810db",
   "metadata": {},
   "source": [
    "For gradient computation, you would typically use:"
   ]
  },
  {
   "cell_type": "code",
   "execution_count": null,
   "id": "eb73dd14-d452-4983-af0d-3397e3d74e2f",
   "metadata": {},
   "outputs": [],
   "source": [
    "# Hypothetical gradient computation\n",
    "grad_fn = jax.grad(sim_fn, argnums=0)  # Gradient w.r.t. params\n",
    "gradients = grad_fn(params, arrays, key)"
   ]
  }
 ],
 "metadata": {
  "kernelspec": {
   "display_name": "Python [conda env:base] *",
   "language": "python",
   "name": "conda-base-py"
  },
  "language_info": {
   "codemirror_mode": {
    "name": "ipython",
    "version": 3
   },
   "file_extension": ".py",
   "mimetype": "text/x-python",
   "name": "python",
   "nbconvert_exporter": "python",
   "pygments_lexer": "ipython3",
   "version": "3.12.7"
  }
 },
 "nbformat": 4,
 "nbformat_minor": 5
}
