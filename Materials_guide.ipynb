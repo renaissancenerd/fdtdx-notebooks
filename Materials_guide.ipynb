{
 "cells": [
  {
   "cell_type": "markdown",
   "id": "8cba6a5e-eda7-4182-8c0d-979b3e72e91a",
   "metadata": {},
   "source": [
    "# Materials Guide\n",
    "\n",
    "In FDTDX, objects can have different permittivities and permeabilities. Currently, the conductivity of all materials is assumed to be zero, but we are planning to implement conductive materials in the very near future.\n",
    "\n",
    "Also, currently neither dispersion nor non-linear materials are implemented. The implementation of dispersion is scheduled in the near-mid future and afterwards an implementation of non-linear materials will follow.\n",
    "\n",
    "This guide is currently very short and will be expanded with them implementations mentioned above."
   ]
  },
  {
   "cell_type": "markdown",
   "id": "a3805db8-d8af-4d97-b46b-198bfb0013e6",
   "metadata": {},
   "source": [
    "## UniformMaterial\n",
    "\n",
    "The most basic and also probably most useful object is the UniformMaterialObject. As the name suggests, it has a single material."
   ]
  },
  {
   "cell_type": "code",
   "execution_count": 10,
   "id": "4ff8ab8d-a9b9-4946-a938-72ed68487c5f",
   "metadata": {},
   "outputs": [],
   "source": [
    "from fdtdx import (\n",
    "    constants,\n",
    "    UniformMaterialObject,\n",
    "    Material,\n",
    "    colors,\n",
    ")\n",
    "\n",
    "uniform_obj = UniformMaterialObject(\n",
    "    partial_real_shape=(0.6e-6, 0.6e-6, 0.6e-6),\n",
    "    material=Material(permittivity=constants.relative_permittivity_silica),\n",
    "    # permeability is one by default\n",
    "    #permeability=1.0,\n",
    "    color=colors.CYAN,\n",
    "    name=\"uniform_obj\",\n",
    ")"
   ]
  },
  {
   "cell_type": "markdown",
   "id": "4e789e07-74e2-4456-82aa-512172340c50",
   "metadata": {},
   "source": [
    "The name and color attribute are only used for plotting and do not have any effect on the simulation.\n",
    "\n",
    "## Device\n",
    "\n",
    "For inverse design, it is necessary to model objects that can either be one or the other materials. In some applications, it might even be necessary to model objects consisting of more than two materials.\n",
    "\n",
    "In this example, we create a device consisting of voxels that are either air or polymer."
   ]
  },
  {
   "cell_type": "code",
   "execution_count": null,
   "id": "9f7dc31c-7e63-4d98-aed3-44d1f18dea30",
   "metadata": {},
   "outputs": [],
   "source": [
    "material_config = {\n",
    "    \"Air\": Material(permittivity=constants.relative_permittivity_air),\n",
    "    \"Polymer\": Material(permittivity=constants.relative_permittivity_ma_N_1400_series),\n",
    "}\n",
    "device = Device(\n",
    "    name=\"Device\",\n",
    "    partial_real_shape=(1e-6, 1e-6, 1e-6),\n",
    "    material=material_config,\n",
    "    parameter_mapping=...,\n",
    "    partial_voxel_real_shape=(0.2e-6, 0.2e-6, 0.2e-6),\n",
    ")"
   ]
  },
  {
   "cell_type": "markdown",
   "id": "da9cc637-406a-4204-90b0-d3a36e9f33c2",
   "metadata": {},
   "source": [
    "The device has a permittivity config, which defines the different permittivity options. This is currently only implemented for permittivity, but we will expand it in the future to metallic materials as well.\n",
    "\n",
    "The partial_voxel_real_shape argument specifies the size of the uniform material voxels within the device. In this case, voxels, of 200nm^3 have a single permittivity. Since the device has a shape of 1µm^3, there are 5x5x5=125 of these voxels within the device.\n",
    "\n",
    "Importantly, the size of the device needs to be divisible by the voxel size. Additionally, the voxel size needs to be suffiently larger than the resolution of the Yee-grid in the simulation. For example, if the resolution of the Yee-grid is also 200nm, then this simulation will not produce accurate results. As a rule of thumb, the resolution of the Yee-grid should be at least three times smaller than the size of the voxels.\n",
    "\n",
    "The device has one latent parameter for every voxel. Initially, these latent parameters are uniformly random in the interval [0, 1]. The constraint mapping defines how these latent parameters are mapped to actual inverse permittivity choices. A detailed guide on this topic can be found <a href=\"https://ymahlau.github.io/fdtdx/tutorials/parameter_mapping/\">here</a>."
   ]
  }
 ],
 "metadata": {
  "kernelspec": {
   "display_name": "Python [conda env:base] *",
   "language": "python",
   "name": "conda-base-py"
  },
  "language_info": {
   "codemirror_mode": {
    "name": "ipython",
    "version": 3
   },
   "file_extension": ".py",
   "mimetype": "text/x-python",
   "name": "python",
   "nbconvert_exporter": "python",
   "pygments_lexer": "ipython3",
   "version": "3.12.7"
  }
 },
 "nbformat": 4,
 "nbformat_minor": 5
}
